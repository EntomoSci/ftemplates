{
 "cells": [
  {
   "attachments": {},
   "cell_type": "markdown",
   "metadata": {},
   "source": [
    "## Data Science Notebook Template\n",
    "*This markdown cell is only to introduce the template structure of the notebook to you. Feel free to remove it after understanding it.*\n",
    "\n",
    "---\n",
    "\n",
    "This data notebook follows a data science workflow structure of 6 well defined stages:\n",
    "<details>\n",
    "<summary>1. Question Definition</summary>\n",
    "\n",
    "The purpose and questions to be answered by the study are defined here.\n",
    "</details>\n",
    "\n",
    "<details>\n",
    "<summary>2. Data Collection</summary>\n",
    "\n",
    "All the data sources, the required library imports and loading of the data sets are defined here.\n",
    "</details>\n",
    "\n",
    "<details>\n",
    "<summary>3. Data Diagnosis</summary>\n",
    "\n",
    "The first exploration of the data and a report with all identified data issues are made here.\n",
    "</details>\n",
    "\n",
    "<details>\n",
    "<summary>4. Data Preparation</summary>\n",
    "\n",
    "The resolution of all identified issues by the previous stage report (*RDS Diagnosis*) are made here.\n",
    "</details>\n",
    "\n",
    "<details>\n",
    "<summary>5. Data Analysis</summary>\n",
    "\n",
    "The data exploration via *EDA* searching for statistical metrics, variable relationships, data visualizations are made here.\n",
    "</details>\n",
    "\n",
    "<details>\n",
    "<summary>6. Data Reporting</summary>\n",
    "\n",
    "The final results of analysis presented with more sophisticated visualizations and concise *jargon-free* statements are made here.\n",
    "</details>\n",
    "\n",
    "Each section have its own number identifier and each subsection expands the identifier of its parent using dot notation.\n",
    "\n",
    "I recommend you to read the purpose of each section before changing it if seems undesirable or unnecessary.\n",
    "\n",
    "If you have thoughts or ideas to improve this template please share them. You can contribute to its repository at []()."
   ]
  },
  {
   "attachments": {},
   "cell_type": "markdown",
   "metadata": {},
   "source": [
    "# Notebook Title\n",
    "Define the title of your notebook here."
   ]
  },
  {
   "attachments": {},
   "cell_type": "markdown",
   "metadata": {},
   "source": [
    "## 1. Question Definition"
   ]
  },
  {
   "attachments": {},
   "cell_type": "markdown",
   "metadata": {},
   "source": [
    "Define the questions you want to answer using your data here."
   ]
  },
  {
   "attachments": {},
   "cell_type": "markdown",
   "metadata": {},
   "source": [
    "## 2. Data Collection"
   ]
  },
  {
   "attachments": {},
   "cell_type": "markdown",
   "metadata": {},
   "source": [
    "Import your libraries, load your data and write your additional notes about its collection here."
   ]
  },
  {
   "attachments": {},
   "cell_type": "markdown",
   "metadata": {},
   "source": [
    "## 3. Data Diagnosis"
   ]
  },
  {
   "attachments": {},
   "cell_type": "markdown",
   "metadata": {},
   "source": [
    "Diagnose your data on different states and prepare a \"cleaning\" report here."
   ]
  },
  {
   "cell_type": "markdown",
   "metadata": {},
   "source": [
    "### 3.1 Getting the *data doubling* status by searching **duplicate values**."
   ]
  },
  {
   "cell_type": "markdown",
   "metadata": {},
   "source": [
    "### 3.2 Getting the *data completeness* status by searching **missing values**."
   ]
  },
  {
   "cell_type": "markdown",
   "metadata": {},
   "source": [
    "### 3.3 Getting the *data encoding* status by searching **incorrect values and data types**."
   ]
  },
  {
   "cell_type": "markdown",
   "metadata": {},
   "source": [
    "### 3.4 Getting the *data formatting* status by searching **incorrectly formated values**."
   ]
  },
  {
   "cell_type": "markdown",
   "metadata": {},
   "source": [
    "### 3.5 Getting the *data coherence* status by searching **incoherent values**."
   ]
  },
  {
   "attachments": {},
   "cell_type": "markdown",
   "metadata": {},
   "source": [
    "### 3.6 Diagnosis"
   ]
  },
  {
   "attachments": {},
   "cell_type": "markdown",
   "metadata": {},
   "source": [
    "Write the diagnosis you made of your data here.\n",
    "\n",
    "- 3.1 *data doubling* status:\n",
    "- 3.2 *data completeness* status:\n",
    "- 3.3 *data encoding* status:\n",
    "- 3.4 *data formatting* status:\n",
    "- 3.5 *data coherence* status:"
   ]
  },
  {
   "attachments": {},
   "cell_type": "markdown",
   "metadata": {},
   "source": [
    "## 4. Data Preparation"
   ]
  },
  {
   "attachments": {},
   "cell_type": "markdown",
   "metadata": {},
   "source": [
    "Write your data preparation procedures here with the format of the sample cell below.\n",
    "\n",
    "Aclarations about the sample cell title format:\n",
    "- `x` is one of the status of the previous diagnosis, e.g. \"4.1 Solving *data doubling* issues (3.1)\" or \"4.1 Solving *data encoding\" issues (3.3).\n",
    "- It's recommended that the status type in the title is followed by its section number for better orientation.\n",
    "- Data preparation cell number don't always match with the data diagnosis cell number (\"4.1 ... (3.3)\" instead of \"4.1 ... (3.1)\") because if a data status is OK it will not have a data preparation section, thus skipping some data status from data preparation."
   ]
  },
  {
   "attachments": {},
   "cell_type": "markdown",
   "metadata": {},
   "source": [
    "### 4.1 Solving `x` issues (0.0)"
   ]
  },
  {
   "attachments": {},
   "cell_type": "markdown",
   "metadata": {},
   "source": [
    "## 5. Data Analysis"
   ]
  },
  {
   "attachments": {},
   "cell_type": "markdown",
   "metadata": {},
   "source": [
    "Write your *Data Analysis* procedures here by following the format of the cells below."
   ]
  },
  {
   "cell_type": "markdown",
   "metadata": {},
   "source": [
    "### 5.1 Single variable exploration"
   ]
  },
  {
   "attachments": {},
   "cell_type": "markdown",
   "metadata": {},
   "source": [
    "Write your indifivual feature analysis here by following the format of the cell below."
   ]
  },
  {
   "attachments": {},
   "cell_type": "markdown",
   "metadata": {},
   "source": [
    "#### 5.1.1 Exploring `dataframe.a`"
   ]
  },
  {
   "cell_type": "markdown",
   "metadata": {},
   "source": [
    "### 5.2 Pairwise exploration"
   ]
  },
  {
   "attachments": {},
   "cell_type": "markdown",
   "metadata": {},
   "source": [
    "List your feature pair candidates for analysis here by following the format of the cell below."
   ]
  },
  {
   "attachments": {},
   "cell_type": "markdown",
   "metadata": {},
   "source": [
    "#### 5.2.1 Exploring `dataframe.a`/`dataframe.b` relationship"
   ]
  },
  {
   "attachments": {},
   "cell_type": "markdown",
   "metadata": {},
   "source": [
    "## 6. Data Reporting"
   ]
  },
  {
   "attachments": {},
   "cell_type": "markdown",
   "metadata": {},
   "source": [
    "Answer your questions by writing your conclusions along with friendly visualization about your data here."
   ]
  }
 ],
 "metadata": {
  "kernelspec": {
   "display_name": "3-hour-opencv-tutorial",
   "language": "python",
   "name": "python3"
  },
  "language_info": {
   "codemirror_mode": {
    "name": "ipython",
    "version": 3
   },
   "file_extension": ".py",
   "mimetype": "text/x-python",
   "name": "python",
   "nbconvert_exporter": "python",
   "pygments_lexer": "ipython3",
   "version": "3.10.4 | packaged by conda-forge | (main, Mar 30 2022, 08:38:02) [MSC v.1916 64 bit (AMD64)]"
  },
  "orig_nbformat": 4,
  "vscode": {
   "interpreter": {
    "hash": "e302af2d0483566c743ced928b0ed899d88aae5247cb3178adfa662acc94871c"
   }
  }
 },
 "nbformat": 4,
 "nbformat_minor": 2
}
